{
 "cells": [
  {
   "cell_type": "code",
   "execution_count": null,
   "id": "df5f1c94",
   "metadata": {},
   "outputs": [],
   "source": [
    "#start with all examples at the root node\n",
    "#calculate the informor mation gain for all possible features\n",
    "#pick one with highest info gain\n",
    "#split the data set acording to selected features and create left right branches for the tree\n",
    "#keep repeating the process until u cant make it further"
   ]
  }
 ],
 "metadata": {
  "kernelspec": {
   "display_name": "Python 3 (ipykernel)",
   "language": "python",
   "name": "python3"
  },
  "language_info": {
   "codemirror_mode": {
    "name": "ipython",
    "version": 3
   },
   "file_extension": ".py",
   "mimetype": "text/x-python",
   "name": "python",
   "nbconvert_exporter": "python",
   "pygments_lexer": "ipython3",
   "version": "3.10.9"
  }
 },
 "nbformat": 4,
 "nbformat_minor": 5
}
