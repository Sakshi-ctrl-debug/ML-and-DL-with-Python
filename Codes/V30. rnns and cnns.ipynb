{
 "cells": [
  {
   "cell_type": "code",
   "execution_count": 1,
   "id": "b7ed44fd",
   "metadata": {},
   "outputs": [],
   "source": [
    "#importing libraries\n",
    "import tensorflow as tf\n",
    "from tensorflow import keras\n",
    "from tensorflow.keras import layers"
   ]
  },
  {
   "cell_type": "code",
   "execution_count": 2,
   "id": "9db1ca0b",
   "metadata": {},
   "outputs": [],
   "source": [
    "#loading the data\n",
    "(x_train,y_train),(x_test,y_test)=keras.datasets.mnist.load_data()"
   ]
  },
  {
   "cell_type": "code",
   "execution_count": 3,
   "id": "25cb2059",
   "metadata": {},
   "outputs": [],
   "source": [
    "#preprocessing the data\n",
    "x_train=x_train.reshape(-1,28*28).astype(\"float32\")/255.0\n",
    "x_test=x_test.reshape(-1,28*28).astype(\"float32\")/255.0"
   ]
  },
  {
   "cell_type": "code",
   "execution_count": 5,
   "id": "05eaa22a",
   "metadata": {},
   "outputs": [],
   "source": [
    "#defining the model architecture\n",
    "model = tf.keras.Sequential([\n",
    "    layers.SimpleRNN(64, input_shape=(28, 28)),\n",
    "    layers.Dense(10, activation='softmax')\n",
    "])"
   ]
  },
  {
   "cell_type": "code",
   "execution_count": 6,
   "id": "ebf7ebae",
   "metadata": {},
   "outputs": [],
   "source": [
    "#compile the model\n",
    "model.compile(optimizer='adam',loss='sparse_categorical_crossentropy',metrics=['accuracy'])"
   ]
  },
  {
   "cell_type": "code",
   "execution_count": 7,
   "id": "12e6b967",
   "metadata": {},
   "outputs": [],
   "source": [
    "#reshaping the input data\n",
    "x_train=x_train.reshape((-1,28,28))"
   ]
  },
  {
   "cell_type": "code",
   "execution_count": 8,
   "id": "80854374",
   "metadata": {},
   "outputs": [
    {
     "name": "stdout",
     "output_type": "stream",
     "text": [
      "Epoch 1/5\n",
      "1875/1875 [==============================] - 7s 3ms/step - loss: 0.5137 - accuracy: 0.8416\n",
      "Epoch 2/5\n",
      "1875/1875 [==============================] - 7s 4ms/step - loss: 0.2449 - accuracy: 0.9290\n",
      "Epoch 3/5\n",
      "1875/1875 [==============================] - 7s 4ms/step - loss: 0.2028 - accuracy: 0.9417\n",
      "Epoch 4/5\n",
      "1875/1875 [==============================] - 7s 4ms/step - loss: 0.1826 - accuracy: 0.9471\n",
      "Epoch 5/5\n",
      "1875/1875 [==============================] - 7s 4ms/step - loss: 0.1680 - accuracy: 0.9517\n"
     ]
    },
    {
     "data": {
      "text/plain": [
       "<keras.callbacks.History at 0x1a300447280>"
      ]
     },
     "execution_count": 8,
     "metadata": {},
     "output_type": "execute_result"
    }
   ],
   "source": [
    "#train the model\n",
    "model.fit(x_train,y_train,batch_size=32,epochs=5,verbose=1)"
   ]
  },
  {
   "cell_type": "code",
   "execution_count": 9,
   "id": "388949ed",
   "metadata": {},
   "outputs": [],
   "source": [
    "#reshaping the input data\n",
    "x_test=x_test.reshape((-1,28,28))"
   ]
  },
  {
   "cell_type": "code",
   "execution_count": 10,
   "id": "ced1c5b8",
   "metadata": {},
   "outputs": [
    {
     "name": "stdout",
     "output_type": "stream",
     "text": [
      "313/313 [==============================] - 1s 2ms/step - loss: 0.1980 - accuracy: 0.9439\n",
      "test loss:0.1980\n",
      "test accuracy:0.9439\n"
     ]
    }
   ],
   "source": [
    "#evalute the model\n",
    "loss,accuracy=model.evaluate(x_test,y_test,verbose=1)\n",
    "print(f'test loss:{loss:.4f}')\n",
    "print(f'test accuracy:{accuracy:.4f}')"
   ]
  },
  {
   "cell_type": "code",
   "execution_count": null,
   "id": "20cfed1d",
   "metadata": {},
   "outputs": [],
   "source": []
  }
 ],
 "metadata": {
  "kernelspec": {
   "display_name": "Python 3 (ipykernel)",
   "language": "python",
   "name": "python3"
  },
  "language_info": {
   "codemirror_mode": {
    "name": "ipython",
    "version": 3
   },
   "file_extension": ".py",
   "mimetype": "text/x-python",
   "name": "python",
   "nbconvert_exporter": "python",
   "pygments_lexer": "ipython3",
   "version": "3.10.9"
  }
 },
 "nbformat": 4,
 "nbformat_minor": 5
}
