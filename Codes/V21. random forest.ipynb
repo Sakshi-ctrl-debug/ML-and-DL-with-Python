{
 "cells": [
  {
   "cell_type": "code",
   "execution_count": 1,
   "id": "94050bcd",
   "metadata": {},
   "outputs": [
    {
     "name": "stdout",
     "output_type": "stream",
     "text": [
      "Iris Dataset:\n",
      "     sepal length (cm)  sepal width (cm)  petal length (cm)  petal width (cm)  \\\n",
      "0                  5.1               3.5                1.4               0.2   \n",
      "1                  4.9               3.0                1.4               0.2   \n",
      "2                  4.7               3.2                1.3               0.2   \n",
      "3                  4.6               3.1                1.5               0.2   \n",
      "4                  5.0               3.6                1.4               0.2   \n",
      "..                 ...               ...                ...               ...   \n",
      "145                6.7               3.0                5.2               2.3   \n",
      "146                6.3               2.5                5.0               1.9   \n",
      "147                6.5               3.0                5.2               2.0   \n",
      "148                6.2               3.4                5.4               2.3   \n",
      "149                5.9               3.0                5.1               1.8   \n",
      "\n",
      "     target    species  \n",
      "0         0     setosa  \n",
      "1         0     setosa  \n",
      "2         0     setosa  \n",
      "3         0     setosa  \n",
      "4         0     setosa  \n",
      "..      ...        ...  \n",
      "145       2  virginica  \n",
      "146       2  virginica  \n",
      "147       2  virginica  \n",
      "148       2  virginica  \n",
      "149       2  virginica  \n",
      "\n",
      "[150 rows x 6 columns]\n",
      "\n",
      "Enter sepal length (cm): 5\n",
      "Enter sepal width (cm): 6\n",
      "Enter petal length (cm): 7\n",
      "Enter petal width (cm): 8\n",
      "Predicted species: virginica\n"
     ]
    }
   ],
   "source": [
    "from sklearn.ensemble import RandomForestClassifier\n",
    "from sklearn.datasets import load_iris\n",
    "from sklearn.metrics import accuracy_score\n",
    "import pandas as pd\n",
    "\n",
    "# Load the Iris dataset\n",
    "iris = load_iris()\n",
    "X = iris.data  # Features\n",
    "y = iris.target  # Labels\n",
    "\n",
    "# Create a pandas DataFrame for the Iris dataset\n",
    "df = pd.DataFrame(X, columns=iris.feature_names)\n",
    "df['target'] = y\n",
    "df['species'] = df['target'].map(dict(zip(range(3), iris.target_names)))\n",
    "\n",
    "# Display the entire dataset\n",
    "print(\"Iris Dataset:\")\n",
    "print(df)\n",
    "print()\n",
    "\n",
    "# Create a Random Forest classifier\n",
    "clf = RandomForestClassifier(n_estimators=100, random_state=42)\n",
    "\n",
    "# Train the classifier on the entire dataset\n",
    "clf.fit(X, y)\n",
    "\n",
    "# Take user input for feature values\n",
    "sepal_length = float(input(\"Enter sepal length (cm): \"))\n",
    "sepal_width = float(input(\"Enter sepal width (cm): \"))\n",
    "petal_length = float(input(\"Enter petal length (cm): \"))\n",
    "petal_width = float(input(\"Enter petal width (cm): \"))\n",
    "\n",
    "# Create a feature array from user input\n",
    "user_input = [[sepal_length, sepal_width, petal_length, petal_width]]\n",
    "\n",
    "# Make predictions on the user input\n",
    "predictions = clf.predict(user_input)\n",
    "\n",
    "# Map the numeric predictions to class labels\n",
    "species = iris.target_names[predictions[0]]\n",
    "\n",
    "# Print the predicted species\n",
    "print(\"Predicted species:\", species)"
   ]
  },
  {
   "cell_type": "code",
   "execution_count": null,
   "id": "41c0dc03",
   "metadata": {},
   "outputs": [],
   "source": []
  }
 ],
 "metadata": {
  "kernelspec": {
   "display_name": "Python 3 (ipykernel)",
   "language": "python",
   "name": "python3"
  },
  "language_info": {
   "codemirror_mode": {
    "name": "ipython",
    "version": 3
   },
   "file_extension": ".py",
   "mimetype": "text/x-python",
   "name": "python",
   "nbconvert_exporter": "python",
   "pygments_lexer": "ipython3",
   "version": "3.10.9"
  }
 },
 "nbformat": 4,
 "nbformat_minor": 5
}
