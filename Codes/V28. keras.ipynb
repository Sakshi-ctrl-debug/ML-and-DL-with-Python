{
 "cells": [
  {
   "cell_type": "code",
   "execution_count": 1,
   "id": "8fadd0ca",
   "metadata": {},
   "outputs": [],
   "source": [
    "#import libraries\n",
    "import tensorflow as tf\n",
    "from tensorflow import keras\n",
    "from tensorflow.keras import layers"
   ]
  },
  {
   "cell_type": "code",
   "execution_count": 2,
   "id": "c66ea66e",
   "metadata": {},
   "outputs": [],
   "source": [
    "#load the cifar dataset\n",
    "(x_train,y_train),(x_test,y_test)=keras.datasets.cifar10.load_data()"
   ]
  },
  {
   "cell_type": "code",
   "execution_count": 3,
   "id": "f018a3b8",
   "metadata": {},
   "outputs": [],
   "source": [
    "#preprocess the data\n",
    "x_train=x_train.astype('float32')/255.0\n",
    "x_test=x_test.astype('float32')/255.0"
   ]
  },
  {
   "cell_type": "code",
   "execution_count": 8,
   "id": "95fe4a50",
   "metadata": {},
   "outputs": [],
   "source": [
    "#defining the model acrchitecture\n",
    "model=keras.Sequential([\n",
    "    layers.Conv2D(32,(3,3),activation='relu',input_shape=(32,32,3)),\n",
    "    layers.MaxPooling2D((2,2)),\n",
    "    layers.Flatten(),\n",
    "    layers.Dense(64,activation='relu'),\n",
    "    layers.Dense(10,activation='softmax')\n",
    "])"
   ]
  },
  {
   "cell_type": "code",
   "execution_count": 9,
   "id": "49a8ee80",
   "metadata": {},
   "outputs": [],
   "source": [
    "#compiling the model\n",
    "model.compile(optimizer='adam',loss='sparse_categorical_crossentropy',metrics=['accuracy'])"
   ]
  },
  {
   "cell_type": "code",
   "execution_count": 10,
   "id": "2ce3011d",
   "metadata": {},
   "outputs": [
    {
     "name": "stdout",
     "output_type": "stream",
     "text": [
      "Epoch 1/10\n",
      "782/782 [==============================] - 14s 16ms/step - loss: 1.5696 - accuracy: 0.4398\n",
      "Epoch 2/10\n",
      "782/782 [==============================] - 13s 17ms/step - loss: 1.2764 - accuracy: 0.5524\n",
      "Epoch 3/10\n",
      "782/782 [==============================] - 13s 17ms/step - loss: 1.1793 - accuracy: 0.5879\n",
      "Epoch 4/10\n",
      "782/782 [==============================] - 13s 17ms/step - loss: 1.1166 - accuracy: 0.6116\n",
      "Epoch 5/10\n",
      "782/782 [==============================] - 13s 17ms/step - loss: 1.0576 - accuracy: 0.6335\n",
      "Epoch 6/10\n",
      "782/782 [==============================] - 14s 17ms/step - loss: 1.0062 - accuracy: 0.6504\n",
      "Epoch 7/10\n",
      "782/782 [==============================] - 14s 17ms/step - loss: 0.9633 - accuracy: 0.6661\n",
      "Epoch 8/10\n",
      "782/782 [==============================] - 14s 18ms/step - loss: 0.9250 - accuracy: 0.6778\n",
      "Epoch 9/10\n",
      "782/782 [==============================] - 14s 17ms/step - loss: 0.8955 - accuracy: 0.6902\n",
      "Epoch 10/10\n",
      "782/782 [==============================] - 14s 18ms/step - loss: 0.8630 - accuracy: 0.7007\n"
     ]
    },
    {
     "data": {
      "text/plain": [
       "<keras.callbacks.History at 0x13300001810>"
      ]
     },
     "execution_count": 10,
     "metadata": {},
     "output_type": "execute_result"
    }
   ],
   "source": [
    "#training the model\n",
    "model.fit(x_train,y_train,batch_size=64,epochs=10,verbose=1)"
   ]
  },
  {
   "cell_type": "code",
   "execution_count": null,
   "id": "4e79afb7",
   "metadata": {},
   "outputs": [],
   "source": [
    "#evalute the model\n",
    "loss,accuracy=model.evaluate(x_test,y_test,verbose=1)\n",
    "print(f'test loss:{loss:.4f}')\n",
    "print(f'test accuracy:{accuracy:.4f}'"
   ]
  },
  {
   "cell_type": "code",
   "execution_count": 12,
   "id": "28e16b10",
   "metadata": {},
   "outputs": [
    {
     "name": "stdout",
     "output_type": "stream",
     "text": [
      "1/1 [==============================] - 0s 63ms/step\n"
     ]
    }
   ],
   "source": [
    "#making prediction\n",
    "predictions=model.predict(x_test[:5])\n",
    "predicted_labels=tf.argmax(predictions,axis=1)"
   ]
  },
  {
   "cell_type": "code",
   "execution_count": 14,
   "id": "f7bb85ca",
   "metadata": {},
   "outputs": [
    {
     "data": {
      "text/plain": [
       "array([3, 8, 0, 0, 6], dtype=int64)"
      ]
     },
     "execution_count": 14,
     "metadata": {},
     "output_type": "execute_result"
    }
   ],
   "source": [
    "predicted_labels.numpy()"
   ]
  },
  {
   "cell_type": "code",
   "execution_count": null,
   "id": "8f11b0e0",
   "metadata": {},
   "outputs": [],
   "source": [
    "#https://keras.io/guides/"
   ]
  }
 ],
 "metadata": {
  "kernelspec": {
   "display_name": "Python 3 (ipykernel)",
   "language": "python",
   "name": "python3"
  },
  "language_info": {
   "codemirror_mode": {
    "name": "ipython",
    "version": 3
   },
   "file_extension": ".py",
   "mimetype": "text/x-python",
   "name": "python",
   "nbconvert_exporter": "python",
   "pygments_lexer": "ipython3",
   "version": "3.10.9"
  }
 },
 "nbformat": 4,
 "nbformat_minor": 5
}
